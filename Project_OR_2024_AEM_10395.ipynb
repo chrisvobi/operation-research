{
 "cells": [
  {
   "metadata": {},
   "cell_type": "markdown",
   "source": [
    "ΑΡΙΣΤΟΤΕΛΕΙΟ ΠΑΝΕΠΙΣΤΗΜΙΟ ΘΕΣΣΑΛΟΝΙΚΗΣ\n",
    "\n",
    "ΠΟΛΥΤΕΧΝΙΚΗ ΣΧΟΛΗ - ΤΜΗΜΑ ΗΛΕΚΤΡΟΛΟΓΩΝ ΜΗΧΑΝΙΚΩΝ ΚΑΙ ΜΗΧΑΝΙΚΩΝ ΥΠΟΛΟΓΙΣΤΩΝ\n",
    "\n",
    "ΤΟΜΕΑΣ ΗΛΕΚΤΡΟΝΙΚΗΣ ΚΑΙ ΥΠΟΛΟΓΙΣΤΩΝ\n"
   ],
   "id": "8d29e9d9c1446b21"
  },
  {
   "metadata": {},
   "cell_type": "markdown",
   "source": "# ΕΠΙΧΕΙΡΗΣΙΑΚΗ ΕΡΕΥΝΑ",
   "id": "d65dcf45048aeba5"
  },
  {
   "metadata": {},
   "cell_type": "markdown",
   "source": "## ΕΡΓΑΣΙΑ / PROJECT 2024",
   "id": "c8cbd603d59356c0"
  },
  {
   "metadata": {},
   "cell_type": "markdown",
   "source": [
    "**Ονοματεπώνυμο**: Χριστοφορίδης Χρήστος\n",
    "\n",
    "**ΑΕΜ**: 10395\n",
    "\n",
    "**Email**: christoscs@ece.auth.gr"
   ],
   "id": "147f2e8278ac81a3"
  },
  {
   "metadata": {
    "ExecuteTime": {
     "end_time": "2024-05-23T21:18:56.661794Z",
     "start_time": "2024-05-23T21:18:56.648808Z"
    }
   },
   "cell_type": "code",
   "source": [
    "## IMPORTS ##\n",
    "import gurobipy as gp\n",
    "from gurobipy import GRB\n",
    "import numpy as np"
   ],
   "id": "491504c7e7dc907a",
   "outputs": [],
   "execution_count": 215
  },
  {
   "metadata": {},
   "cell_type": "markdown",
   "source": [
    "## ΘΕΜΑ 1 - Airport Landing Schedule\n",
    "\n",
    "Έστω $A$ το σύνολο των αεροσκαφών δηλαδή $Α = \\{1,2,3,...,10\\}$\n",
    "\n",
    "- ${earliest\\_arrival}_i$ : Νωρίτερος χρόνος άφιξης του αεροσκάφους $i$.\n",
    "\n",
    "- ${estimated\\_arrival}_i$ : Εκτιμώμενος χρόνος άφιξης του αεροσκάφους $i$.\n",
    "\n",
    "- ${latest\\_arrival}_i$ : Αργότερος χρόνος άφιξης του αεροσκάφους $i$.\n",
    "\n",
    "- ${min\\_time\\_between\\_landings}_{ij}$ : Ελάχιστο χρονικό διάστημα μεταξύ των προσγειώσεων των αεροσκαφών $i$ και $j$\n",
    "\n",
    "- ${early\\_penalty}_i$: Πρόστιμο προωρότητας του αεροσκάφους $i$\n",
    "- ${late\\_penalty}_i$: Πρόστιμο καθυστέρησης του αεροσκάφους $i$\n",
    "\n",
    "Ορίζω νέες μεταβλητές:\n",
    "- ${landing\\_time}_i$ : Αντιπροσωπεύει την χρονική στιγμή που φτάνει το αεροσκάφος $i$.\n",
    "- $δ_{ij}$ : Ισούται με $1$ όταν η πτήση $i$ φτάνει πριν την πτήση $j$, αλλιώς ισούται με $0$.\n",
    "- ${z\\_p}_i$: Χρόνος καθυστέρησης, ισούται με max$[0,{landing\\_time}_i - {estimated\\_arrival}_i]$\n",
    "- ${z\\_n}_i$: Χρόνος προωρότητας, ισούται με max$[0,{estimated\\_arrival}_i - {landing\\_time}_i]$\n",
    "- $M$: Ένας μεγάλος αριθμός.\n",
    "\n",
    "Προκύπτουν λοιπόν οι παρακάτω περιορισμοί:\n",
    "\n",
    "1. Προφανώς ένα από τα δύο αεροσκάφη προσγειώνεται πριν από το άλλο άρα ένα ισούται με μονάδα και το άλλο με μηδέν:\n",
    "- $δ_{ij} + δ_{ji} = 1, i \\ne j$\n",
    "2. Η ώρα άφιξης πρέπει να είναι μεγαλύτερη της ελάχιστης και μικρότερη της μέγιστης:\n",
    "- $ {landing\\_time}_i \\ge {earliest\\_arrival}_i$\n",
    "- $ {landing\\_time}_i \\le {latest\\_arrival}_i$\n",
    "3. Αν ο χρόνος άφιξης είναι μεγαλύτερος από τον εκτιμώμενο χρόνο τότε το ${z\\_p}_i$ είναι θετικό, ενώ αν αν είναι μικρότερος τότε το ${z\\_n}_i$ είναι θετικό:\n",
    "- ${z\\_p}_i \\ge {landing\\_time}_i - {estimated\\_arrival}_i $\n",
    "- ${z\\_n}_i \\ge {estimated\\_arrival}_i - {landing\\_time}_i $\n",
    "4. Αυτός ο περιορισμός διασφαλίζει το ελάχιστο χρονικό διάστημα μεταξύ των προσγειώσεων. Αν το αεροσκάφος $j$ προσγειωθεί πριν το $i$, το $δ_{ji}$ είναι ίσο με $1$ και άρα ο περιορισμός δεν είναι δεσμευτικός, λόγω του μεγάλου αριθμού Μ:\n",
    "- ${landing\\_time}_j - {landing\\_time}_i \\ge {min\\_time\\_between\\_landings}_{ij} - δ_{ji}M$\n",
    "\n",
    "\n",
    "Η συνάρτηση συνολικού προστίμου που θέλω και να ελαχιστοποιήσω είναι η παρακάτω:\n",
    "$$total\\_penalty = \\sum_{i=1}^{10} ({late\\_penalty}_i{z\\_p}_i + {early\\_penalty}_i{z\\_n}_i) $$\n",
    "\n",
    "Ο κώδικας που ακολουθεί μοντελοποιεί το παραπάνω πρόβλημα όπως περιγράφηκε και βρίσκει την βέλτιστη λύση."
   ],
   "id": "5b0c670b9d36b566"
  },
  {
   "metadata": {
    "ExecuteTime": {
     "end_time": "2024-05-23T21:18:56.709711Z",
     "start_time": "2024-05-23T21:18:56.698734Z"
    }
   },
   "cell_type": "code",
   "source": [
    "## DATA ##\n",
    "aircrafts = 10\n",
    "earliest_arrival = [129, 195, 89, 96, 110, 120, 124, 126, 135, 160]\n",
    "estimated_arrival = [155, 258, 96, 106, 123, 135, 138, 140, 150, 180]\n",
    "latest_arrival = [559, 744, 510, 521, 555, 576, 577, 573, 591, 657]\n",
    "early_penalty = [10, 10, 30, 30, 30, 30, 30, 30, 30, 30]\n",
    "late_penalty = [10, 10, 30, 30, 30, 30, 30, 30, 30, 30]\n",
    "min_time_between_landings = [\n",
    "    [0, 3, 15, 15, 15, 15, 15, 15, 15, 15],\n",
    "    [3, 0, 15, 15, 15, 15, 15, 15, 15, 15],\n",
    "    [15, 15, 0, 8, 8, 8, 8, 8, 8, 8],\n",
    "    [15, 15, 8, 0, 8, 8, 8, 8, 8, 8],\n",
    "    [15, 15, 8, 8, 0, 8, 8, 8, 8, 8],\n",
    "    [15, 15, 8, 8, 8, 0, 8, 8, 8, 8],\n",
    "    [15, 15, 8, 8, 8, 8, 0, 8, 8, 8],\n",
    "    [15, 15, 8, 8, 8, 8, 8, 0, 8, 8],\n",
    "    [15, 15, 8, 8, 8, 8, 8, 8, 0, 8],\n",
    "    [15, 15, 8, 8, 8, 8, 8, 8, 8, 0],\n",
    "]\n",
    "M = max(latest_arrival) - min(earliest_arrival) # Big Number"
   ],
   "id": "8492fc59ac953fb8",
   "outputs": [],
   "execution_count": 216
  },
  {
   "metadata": {
    "ExecuteTime": {
     "end_time": "2024-05-23T21:18:56.789470Z",
     "start_time": "2024-05-23T21:18:56.712674Z"
    }
   },
   "cell_type": "code",
   "source": [
    "## MODEL ##\n",
    "model = gp.Model(\"Aircraft_Landing_Schedule\")\n",
    "\n",
    "# variables\n",
    "landing_time = model.addVars(aircrafts, vtype=GRB.CONTINUOUS,name=\"landing_time\")\n",
    "z_p = model.addVars(aircrafts, vtype=GRB.CONTINUOUS,name=\"z_p\")\n",
    "z_n = model.addVars(aircrafts, vtype=GRB.CONTINUOUS,name=\"z_n\")\n",
    "delta = model.addVars(aircrafts, aircrafts, vtype=GRB.BINARY,name=\"delta\")\n",
    "\n",
    "# constraints\n",
    "for i in range(aircrafts):\n",
    "    model.addConstr(landing_time[i] >= earliest_arrival[i])\n",
    "    model.addConstr(landing_time[i] <= latest_arrival[i])\n",
    "    model.addConstr(z_p[i] >= landing_time[i]-estimated_arrival[i])\n",
    "    model.addConstr(z_n[i] >= estimated_arrival[i]-landing_time[i])\n",
    "for i in range(aircrafts):\n",
    "    for j in range(aircrafts):\n",
    "        if i != j:\n",
    "            model.addConstr(delta[i,j] + delta[j,i] == 1)\n",
    "            model.addConstr(landing_time[j]-landing_time[i] >= min_time_between_landings[i][j]-delta[j,i]*M)\n",
    "\n",
    "# cost\n",
    "total_penalty = gp.quicksum(early_penalty[i]*z_n[i] + late_penalty[i]*z_p[i] for i in range(aircrafts)) \n",
    "\n",
    "# optimize\n",
    "model.setObjective(total_penalty, GRB.MINIMIZE)\n",
    "model.optimize()"
   ],
   "id": "b42b0701d476d4d0",
   "outputs": [
    {
     "name": "stdout",
     "output_type": "stream",
     "text": [
      "Gurobi Optimizer version 11.0.2 build v11.0.2rc0 (win64 - Windows 10.0 (19045.2))\n",
      "\n",
      "CPU model: Intel(R) Core(TM) i5-6400 CPU @ 2.70GHz, instruction set [SSE2|AVX|AVX2]\n",
      "Thread count: 4 physical cores, 4 logical processors, using up to 4 threads\n",
      "\n",
      "Optimize a model with 220 rows, 130 columns and 510 nonzeros\n",
      "Model fingerprint: 0xb1a23624\n",
      "Variable types: 30 continuous, 100 integer (100 binary)\n",
      "Coefficient statistics:\n",
      "  Matrix range     [1e+00, 7e+02]\n",
      "  Objective range  [1e+01, 3e+01]\n",
      "  Bounds range     [1e+00, 1e+00]\n",
      "  RHS range        [1e+00, 7e+02]\n",
      "Found heuristic solution: objective 13850.000000\n",
      "Presolve removed 120 rows and 55 columns\n",
      "Presolve time: 0.00s\n",
      "Presolved: 100 rows, 75 columns, 300 nonzeros\n",
      "Variable types: 30 continuous, 45 integer (45 binary)\n",
      "\n",
      "Root relaxation: objective 0.000000e+00, 41 iterations, 0.00 seconds (0.00 work units)\n",
      "\n",
      "    Nodes    |    Current Node    |     Objective Bounds      |     Work\n",
      " Expl Unexpl |  Obj  Depth IntInf | Incumbent    BestBd   Gap | It/Node Time\n",
      "\n",
      "     0     0    0.00000    0    4 13850.0000    0.00000   100%     -    0s\n",
      "H    0     0                     820.0000000    0.00000   100%     -    0s\n",
      "     0     0  318.94607    0    3  820.00000  318.94607  61.1%     -    0s\n",
      "H    0     0                     700.0000000  348.53416  50.2%     -    0s\n",
      "     0     0  520.00000    0    4  700.00000  520.00000  25.7%     -    0s\n",
      "     0     0  520.00000    0    6  700.00000  520.00000  25.7%     -    0s\n",
      "     0     0  520.00000    0    3  700.00000  520.00000  25.7%     -    0s\n",
      "     0     0  520.00000    0    3  700.00000  520.00000  25.7%     -    0s\n",
      "     0     0  700.00000    0    3  700.00000  700.00000  0.00%     -    0s\n",
      "\n",
      "Cutting planes:\n",
      "  Implied bound: 1\n",
      "  MIR: 11\n",
      "\n",
      "Explored 1 nodes (105 simplex iterations) in 0.05 seconds (0.00 work units)\n",
      "Thread count was 4 (of 4 available processors)\n",
      "\n",
      "Solution count 3: 700 820 13850 \n",
      "\n",
      "Optimal solution found (tolerance 1.00e-04)\n",
      "Best objective 7.000000000000e+02, best bound 7.000000000000e+02, gap 0.0000%\n"
     ]
    }
   ],
   "execution_count": 217
  },
  {
   "metadata": {
    "ExecuteTime": {
     "end_time": "2024-05-23T21:18:56.805425Z",
     "start_time": "2024-05-23T21:18:56.791462Z"
    }
   },
   "cell_type": "code",
   "source": [
    "## RESULTS ##\n",
    "copy = []\n",
    "if model.status == GRB.OPTIMAL:\n",
    "    print(\"Βέλτιστη Λύση:\")\n",
    "    for i in range(aircrafts):\n",
    "        copy.append(landing_time[i].x)\n",
    "        print(\"Αεροσκάφος \", i+1, \"- Χρόνος προσγείωσης: \", landing_time[i].x)\n",
    "    order = np.argsort(copy)\n",
    "    print(\"Τα αεροσκάφη προσγειώθηκαν με την σειρά: \",end='')\n",
    "    for i in order:\n",
    "        print(str(i+1)+\", \",end='')\n",
    "    print()\n",
    "    print(\"Το συνολικό πρόστιμο είναι: \" + str(model.ObjVal))\n",
    "else:\n",
    "    print(\"Δεν βρέθηκε βέλτιστη λύση.\")"
   ],
   "id": "f6980dd2db72ee1d",
   "outputs": [
    {
     "name": "stdout",
     "output_type": "stream",
     "text": [
      "Βέλτιστη Λύση:\n",
      "Αεροσκάφος  1 - Χρόνος προσγείωσης:  165.0\n",
      "Αεροσκάφος  2 - Χρόνος προσγείωσης:  258.0\n",
      "Αεροσκάφος  3 - Χρόνος προσγείωσης:  96.0\n",
      "Αεροσκάφος  4 - Χρόνος προσγείωσης:  106.0\n",
      "Αεροσκάφος  5 - Χρόνος προσγείωσης:  118.0\n",
      "Αεροσκάφος  6 - Χρόνος προσγείωσης:  126.0\n",
      "Αεροσκάφος  7 - Χρόνος προσγείωσης:  134.0\n",
      "Αεροσκάφος  8 - Χρόνος προσγείωσης:  142.0\n",
      "Αεροσκάφος  9 - Χρόνος προσγείωσης:  150.0\n",
      "Αεροσκάφος  10 - Χρόνος προσγείωσης:  180.0\n",
      "Τα αεροσκάφη προσγειώθηκαν με την σειρά: 3, 4, 5, 6, 7, 8, 9, 1, 10, 2, \n",
      "Το συνολικό πρόστιμο είναι: 700.0\n"
     ]
    }
   ],
   "execution_count": 218
  },
  {
   "metadata": {},
   "cell_type": "markdown",
   "source": "Επομένως από τα παραπάνω προκύπτει πως ο βέλτιστος προγραμματισμός των αεροπλάνων είναι ο εξής: $3-4-5-6-7-8-9-1-10-2$",
   "id": "fdec45e5507023a2"
  },
  {
   "metadata": {},
   "cell_type": "markdown",
   "source": [
    "## ΘΕΜΑ 2 - Oil Delivery\n",
    "\n",
    "Έστω ότι:\n",
    "- $n$: Ο αριθμός των πόλεων (μαζί με το διυλιστήριο)\n",
    "- $d_{ij}$: Η απόσταση από την πόλη $i$ στην πόλη $j$\n",
    "- $D_i$: Η ζήτηση της πόλης $i$\n",
    "- $C$: Η χωρητικότητα κάθε δεξαμενόπλοιου\n",
    "- $v$: Ο αριθμός των οχημάτων(ή διαδρομών) που απαιτούνται $(v = \\lceil \\frac {\\sum_{i=1}^n D_i} C \\rceil)$\n",
    "\n",
    "Ορίζω μεταβλητές:\n",
    "- $x_{kij}$: Ισούται με $1$ όταν το όχημα $k$ κάνει διαδρομή από την πόλη $i$ στην πόλη $j$, αλλιώς ισούται με $0$.\n",
    "- $f_{kij}$: Πόσα λίτρα μεταφέρονται από την πόλη $i$ στην πόλη $j$ από το όχημα $k$.\n",
    "\n",
    "Οι περιορισμοί που προκύπτουν είναι οι εξής:\n",
    "\n",
    "1. Κάθε πόλη (εκτός του διυλιστήριου) την επισκέπτομαι ακριβώς μία φορά(συμμετρικά αποχωρώ ακριβώς μία φορά) από μόνο ένα όχημα:\n",
    "- $\\sum_{k=1}^v\\sum_{j=1}^n x_{kij} = 1~~\\forall i=2,...,n$\n",
    "- $\\sum_{k=1}^v\\sum_{i=1}^n x_{kij} = 1~~\\forall j=2,...,n$\n",
    "\n",
    "2. Περιορισμός για την ροή πετρελαίου και την ικανοποίηση ζήτησης:\n",
    "- $\\sum_{j=1}^n f_{kij} - \\sum_{j=1}^n f_{kji} = D_i \\sum_{j=1}^n x_{kij},~~ i=2,...,n~,\\forall k$\n",
    "\n",
    "3. Περιορισμός χωρητικότητας:\n",
    "- $0 \\le f_{kij} \\le C x_{kij},~~ \\forall i,j,k$\n",
    "\n",
    "4. Κάθε όχημα ξεκινάει και τελειώνει στο διυλιστήριο:\n",
    "- $\\sum_{j=2}^n x_{k0j}=1,~~ \\forall k$\n",
    "- $\\sum_{i=2}^n x_{ki0}=1,~~ \\forall k$\n",
    "\n",
    "Στόχος μου είναι να ελαχιστοποιήσω την συνολική απόσταση που διανύεται δηλαδή να ελαχιστοποιήσω την παράσταση:\n",
    "$$\\sum_{k=1}^v \\sum_{i=1}^n \\sum_{j=1}^n d_{ij} x_{kij}$$\n",
    "\n",
    "Ο κώδικας που ακολουθεί μοντελοποιεί το παραπάνω πρόβλημα όπως περιγράφηκε και βρίσκει την βέλτιστη λύση."
   ],
   "id": "4068921ae589efc7"
  },
  {
   "metadata": {
    "ExecuteTime": {
     "end_time": "2024-05-23T21:18:56.837380Z",
     "start_time": "2024-05-23T21:18:56.808418Z"
    }
   },
   "cell_type": "code",
   "source": [
    "## DATA ##\n",
    "cities = ['Ω', 'Α', 'Β', 'Γ', 'Δ', 'Ε', 'ΣΤ']\n",
    "D = [0, 14000, 3000, 6000, 16000, 15000, 5000]\n",
    "C = 39000\n",
    "d = [\n",
    "    [0, 148, 55, 32, 70, 140, 73],\n",
    "    [148, 0, 93, 180, 99, 12, 72],\n",
    "    [55, 93, 0, 85, 20, 83, 28],\n",
    "    [32, 180, 85, 0, 100, 174, 99],\n",
    "    [70, 99, 20, 100, 0, 85, 49],\n",
    "    [140, 12, 83, 174, 85, 0, 73],\n",
    "    [73, 72, 28, 99, 49, 73, 0]\n",
    "]\n",
    "\n",
    "n = len(cities)\n",
    "v = int(np.ceil(sum(D)/C))"
   ],
   "id": "45549ff9249dce1e",
   "outputs": [],
   "execution_count": 219
  },
  {
   "metadata": {
    "ExecuteTime": {
     "end_time": "2024-05-23T21:18:57.041793Z",
     "start_time": "2024-05-23T21:18:56.840333Z"
    }
   },
   "cell_type": "code",
   "source": [
    "## MODEL ##\n",
    "model = gp.Model('Oil_Delivery')\n",
    "\n",
    "# variables\n",
    "x = model.addVars(v, n, n, vtype=GRB.BINARY, name='x')\n",
    "f = model.addVars(v, n, n, vtype=GRB.CONTINUOUS, name='f')\n",
    "\n",
    "# constraints\n",
    "# 1\n",
    "for i in range(1, n):\n",
    "    model.addConstr(gp.quicksum(x[k, i, j] for k in range(v) for j in range(n)) == 1)\n",
    "    model.addConstr(gp.quicksum(x[k, j, i] for k in range(v) for j in range(n)) == 1)\n",
    "    \n",
    "# 2\n",
    "for k in range(v):\n",
    "    for i in range(1,n):\n",
    "        model.addConstr(gp.quicksum(f[k, i, j] for j in range(n)) -gp.quicksum(f[k, j, i] for j in range(n)) == D[i]*gp.quicksum(x[k, i, j] for j in range(n)))\n",
    "\n",
    "# 3\n",
    "for k in range(v):\n",
    "    for i in range(n):\n",
    "        for j in range(n):\n",
    "            model.addConstr(f[k, i, j] <= C * x[k, i, j])\n",
    "            model.addConstr(f[k, i, j] >= 0)\n",
    "            \n",
    "# 4\n",
    "for k in range(v):\n",
    "    model.addConstr(gp.quicksum(x[k, 0, j] for j in range(1, n)) == 1)\n",
    "    model.addConstr(gp.quicksum(x[k, i, 0] for i in range(1, n)) == 1)\n",
    "    \n",
    "# cost\n",
    "total_distance = gp.quicksum(d[i][j]*x[k, i, j] for k in range(v) for i in range(n) for j in range(n))\n",
    "\n",
    "# optimize\n",
    "model.setObjective(total_distance, GRB.MINIMIZE)\n",
    "model.optimize()"
   ],
   "id": "edd9edfcec53cf87",
   "outputs": [
    {
     "name": "stdout",
     "output_type": "stream",
     "text": [
      "Gurobi Optimizer version 11.0.2 build v11.0.2rc0 (win64 - Windows 10.0 (19045.2))\n",
      "\n",
      "CPU model: Intel(R) Core(TM) i5-6400 CPU @ 2.70GHz, instruction set [SSE2|AVX|AVX2]\n",
      "Thread count: 4 physical cores, 4 logical processors, using up to 4 threads\n",
      "\n",
      "Optimize a model with 224 rows, 196 columns and 714 nonzeros\n",
      "Model fingerprint: 0xa0f64ca6\n",
      "Variable types: 98 continuous, 98 integer (98 binary)\n",
      "Coefficient statistics:\n",
      "  Matrix range     [1e+00, 4e+04]\n",
      "  Objective range  [1e+01, 2e+02]\n",
      "  Bounds range     [1e+00, 1e+00]\n",
      "  RHS range        [1e+00, 1e+00]\n",
      "Presolve removed 112 rows and 28 columns\n",
      "Presolve time: 0.00s\n",
      "Presolved: 112 rows, 168 columns, 552 nonzeros\n",
      "Variable types: 84 continuous, 84 integer (84 binary)\n",
      "Found heuristic solution: objective 832.0000000\n",
      "\n",
      "Root relaxation: objective 3.875128e+02, 127 iterations, 0.00 seconds (0.00 work units)\n",
      "\n",
      "    Nodes    |    Current Node    |     Objective Bounds      |     Work\n",
      " Expl Unexpl |  Obj  Depth IntInf | Incumbent    BestBd   Gap | It/Node Time\n",
      "\n",
      "     0     0  387.51282    0   20  832.00000  387.51282  53.4%     -    0s\n",
      "H    0     0                     647.0000000  387.51282  40.1%     -    0s\n",
      "H    0     0                     504.0000000  387.51282  23.1%     -    0s\n",
      "     0     0  387.51282    0   24  504.00000  387.51282  23.1%     -    0s\n",
      "H    0     0                     497.0000000  419.09633  15.7%     -    0s\n",
      "     0     0  419.09633    0   27  497.00000  419.09633  15.7%     -    0s\n",
      "     0     0  419.24784    0   27  497.00000  419.24784  15.6%     -    0s\n",
      "     0     0  419.56657    0   28  497.00000  419.56657  15.6%     -    0s\n",
      "     0     0  419.56657    0   31  497.00000  419.56657  15.6%     -    0s\n",
      "     0     0  420.17616    0   31  497.00000  420.17616  15.5%     -    0s\n",
      "     0     0  420.71112    0   32  497.00000  420.71112  15.3%     -    0s\n",
      "     0     0  430.97436    0   29  497.00000  430.97436  13.3%     -    0s\n",
      "     0     0  477.29630    0   30  497.00000  477.29630  3.96%     -    0s\n",
      "     0     0  477.29630    0   29  497.00000  477.29630  3.96%     -    0s\n",
      "     0     0  477.29630    0   29  497.00000  477.29630  3.96%     -    0s\n",
      "     0     0  477.29630    0   28  497.00000  477.29630  3.96%     -    0s\n",
      "     0     0  477.29630    0   35  497.00000  477.29630  3.96%     -    0s\n",
      "     0     0  477.29630    0   35  497.00000  477.29630  3.96%     -    0s\n",
      "     0     0  484.92037    0   26  497.00000  484.92037  2.43%     -    0s\n",
      "     0     0  485.67443    0   24  497.00000  485.67443  2.28%     -    0s\n",
      "     0     0  485.68877    0   29  497.00000  485.68877  2.28%     -    0s\n",
      "\n",
      "Cutting planes:\n",
      "  Cover: 2\n",
      "  Implied bound: 20\n",
      "  Clique: 1\n",
      "  MIR: 13\n",
      "  Flow cover: 13\n",
      "  GUB cover: 3\n",
      "  Network: 2\n",
      "  RLT: 4\n",
      "  Relax-and-lift: 1\n",
      "  BQP: 1\n",
      "\n",
      "Explored 1 nodes (677 simplex iterations) in 0.17 seconds (0.04 work units)\n",
      "Thread count was 4 (of 4 available processors)\n",
      "\n",
      "Solution count 4: 497 504 647 832 \n",
      "\n",
      "Optimal solution found (tolerance 1.00e-04)\n",
      "Best objective 4.970000000000e+02, best bound 4.970000000000e+02, gap 0.0000%\n"
     ]
    }
   ],
   "execution_count": 220
  },
  {
   "metadata": {
    "ExecuteTime": {
     "end_time": "2024-05-23T21:18:57.057752Z",
     "start_time": "2024-05-23T21:18:57.042791Z"
    }
   },
   "cell_type": "code",
   "source": [
    "## ROUTES ##\n",
    "def get_routes(x, n, v):\n",
    "    routes =[[] for _ in range(v)]\n",
    "    for k in range(v):\n",
    "        route = [0] # start from depot\n",
    "        current_city = 0\n",
    "        visited = set()\n",
    "        while len(route) <= n:\n",
    "            for j in range(n):\n",
    "                if j != current_city and x[k, current_city, j].X > 0.5:\n",
    "                    route.append(j)\n",
    "                    visited.add(current_city)\n",
    "                    current_city = j\n",
    "                    break\n",
    "            if current_city == 0:\n",
    "                break\n",
    "        routes[k] = route\n",
    "    return routes"
   ],
   "id": "79267b848edd083b",
   "outputs": [],
   "execution_count": 221
  },
  {
   "metadata": {
    "ExecuteTime": {
     "end_time": "2024-05-23T21:18:57.088836Z",
     "start_time": "2024-05-23T21:18:57.059745Z"
    }
   },
   "cell_type": "code",
   "source": [
    "## RESULTS ##\n",
    "if model.status == GRB.OPTIMAL:\n",
    "    print(\"Βρέθηκε βέλτιστη διαδρομή:\")\n",
    "    routes = get_routes(x, n, v)\n",
    "    for k, route in enumerate(routes):\n",
    "        print(\"Όχημα/Διαδρομή \" + str(k+1) + \": \",end='')\n",
    "        complete_route = [cities[i] for i in route]\n",
    "        print(' -> '.join(complete_route))\n",
    "    print(\"Συνολική απόσταση: \" + str(model.ObjVal))\n",
    "else:\n",
    "    print(\"Δεν βρέθηκε βέλτιστη διαδρομή\")"
   ],
   "id": "fe5299729d046b00",
   "outputs": [
    {
     "name": "stdout",
     "output_type": "stream",
     "text": [
      "Βρέθηκε βέλτιστη διαδρομή:\n",
      "Όχημα/Διαδρομή 1: Ω -> Γ -> Δ -> Ω\n",
      "Όχημα/Διαδρομή 2: Ω -> Β -> Ε -> Α -> ΣΤ -> Ω\n",
      "Συνολική απόσταση: 497.0\n"
     ]
    }
   ],
   "execution_count": 222
  },
  {
   "metadata": {},
   "cell_type": "markdown",
   "source": [
    "Επομένως οι διαδρομές που ελαχιστοποιούν το συνολικό αριθμό χιλιομέτρων που απαιτούνται για να ικανοποιηθεί η ζήτηση, όπως προκύπτει από τα παραπάνω, είναι οι εξής:\n",
    "\n",
    "Διαδρομή $1: Ω -> Γ -> Δ -> Ω$\n",
    "\n",
    "Διαδρομή $2: Ω -> Β -> Ε -> Α -> ΣΤ -> Ω$\n"
   ],
   "id": "949f2c3c566ab584"
  }
 ],
 "metadata": {
  "kernelspec": {
   "display_name": "Python 3",
   "language": "python",
   "name": "python3"
  },
  "language_info": {
   "codemirror_mode": {
    "name": "ipython",
    "version": 2
   },
   "file_extension": ".py",
   "mimetype": "text/x-python",
   "name": "python",
   "nbconvert_exporter": "python",
   "pygments_lexer": "ipython2",
   "version": "2.7.6"
  }
 },
 "nbformat": 4,
 "nbformat_minor": 5
}
